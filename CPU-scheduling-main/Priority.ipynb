{
 "cells": [
  {
   "cell_type": "code",
   "execution_count": 2,
   "metadata": {
    "colab": {
     "base_uri": "https://localhost:8080/"
    },
    "id": "r3oB0VVmeD7c",
    "outputId": "02989a46-3840-41b4-d70d-e088c3ccf63a"
   },
   "outputs": [
    {
     "name": "stdout",
     "output_type": "stream",
     "text": [
      "No. of processes do you want?4\n",
      "burstTime for 1 process 1\n",
      "burstTime for 2 process 2\n",
      "burstTime for 3 process 3\n",
      "burstTime for 4 process 5\n",
      "Priority for 1 process 1\n",
      "Priority for 2 process 2\n",
      "Priority for 3 process 4\n",
      "Priority for 4 process 3\n",
      "processes\tburstTime\tPriority\twaitingTime\tturnAroundTime\n",
      " 1\t\t1\t\t1\t\t0\t\t1\n",
      " 2\t\t2\t\t2\t\t1\t\t3\n",
      " 4\t\t5\t\t3\t\t3\t\t8\n",
      " 3\t\t3\t\t4\t\t8\t\t11\n",
      "Average waiting time =  3.0\n",
      "Average turn around time =  5.75\n"
     ]
    }
   ],
   "source": [
    "def waitingTime( wt,job):\n",
    "    \n",
    "    wt[0]=0\n",
    "\n",
    "    for i in range(1,n):\n",
    "        wt[i]=job[i-1][1] +wt[i-1]\n",
    "\n",
    "          \n",
    "def turnAroundTime(tat,job,wt):  \n",
    "      \n",
    "    for i in range(n): \n",
    "        tat[i] = job[i][1] + wt[i]  \n",
    "  \n",
    "def averageTime(process,n): \n",
    "      \n",
    "    wt = [0] * n\n",
    "    tat = [0] * n\n",
    "  \n",
    "    wavg = 0\n",
    "    tavg = 0\n",
    "  \n",
    "    \n",
    "    waitingTime(wt,process)  \n",
    "      \n",
    "    turnAroundTime(tat,process,wt)  \n",
    "\n",
    "  \n",
    "    print(\"processes\"+ '\\t'+\"burstTime\"+'\\t'+\"Priority\"+'\\t'+\"waitingTime\"+'\\t'+\"turnAroundTime\") \n",
    "  \n",
    "     \n",
    "    for i in range(n): \n",
    "        wavg += wt[i]  \n",
    "        tavg += tat[i]  \n",
    "          \n",
    "        print(\" \" + str(process[i][0]) + \"\\t\\t\" + str(process[i][1])+\"\\t\\t\"+str(process[i][2])+\n",
    "              \"\\t\\t\"+ str(wt[i]) + \"\\t\\t\" + str(tat[i]))\n",
    "                                                         \n",
    "  \n",
    "    print(\"Average waiting time = \",(wavg /n)) \n",
    "    print(\"Average turn around time = \", tavg / n)                                                     \n",
    "     \n",
    "#Driver_code       \n",
    "if __name__ ==\"__main__\":\n",
    "\n",
    "  n=int(input(\"No. of processes do you want?\"))\n",
    "    \n",
    "  processes=[]\n",
    "  burstTime=[] \n",
    "  priority=[]\n",
    "  job=[]\n",
    "\n",
    "  for i in range(1,n+1):\n",
    "    processes.append(i)\n",
    "    \n",
    "  for i in range(1,n+1):         \n",
    "    a=int(input(\"burstTime for {} process \".format(i)))\n",
    "    burstTime.append(a)\n",
    "    \n",
    "  for i in range(1,n+1):     \n",
    "    b=int(input(\"Priority for {} process \".format(i))) \n",
    "    priority.append(b) \n",
    "    \n",
    "  job=[processes,burstTime,priority]    \n",
    "  job1=list(map(list, zip(*job)))\n",
    "          \n",
    "# Using inbuilt sort function\n",
    "  job1=sorted(job1,key = lambda x: x[2])\n",
    "  averageTime(job1,n)\n"
   ]
  },
  {
   "cell_type": "code",
   "execution_count": null,
   "metadata": {
    "id": "XjfvtpUKeGL0"
   },
   "outputs": [],
   "source": []
  }
 ],
 "metadata": {
  "colab": {
   "name": "Priority.ipynb",
   "provenance": []
  },
  "kernelspec": {
   "display_name": "Python 3",
   "language": "python",
   "name": "python3"
  },
  "language_info": {
   "codemirror_mode": {
    "name": "ipython",
    "version": 3
   },
   "file_extension": ".py",
   "mimetype": "text/x-python",
   "name": "python",
   "nbconvert_exporter": "python",
   "pygments_lexer": "ipython3",
   "version": "3.8.3"
  }
 },
 "nbformat": 4,
 "nbformat_minor": 1
}
